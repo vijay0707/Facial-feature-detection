{
  "nbformat": 4,
  "nbformat_minor": 0,
  "metadata": {
    "colab": {
      "provenance": []
    },
    "kernelspec": {
      "name": "python3",
      "display_name": "Python 3"
    },
    "language_info": {
      "name": "python"
    }
  },
  "cells": [
    {
      "cell_type": "code",
      "execution_count": 1,
      "metadata": {
        "colab": {
          "base_uri": "https://localhost:8080/",
          "height": 316
        },
        "id": "7eoSMSYTy7M6",
        "outputId": "7e57ed0c-9886-4c07-866e-9cdcf6716cba"
      },
      "outputs": [
        {
          "output_type": "error",
          "ename": "RuntimeError",
          "evalue": "ignored",
          "traceback": [
            "\u001b[0;31m---------------------------------------------------------------------------\u001b[0m",
            "\u001b[0;31mRuntimeError\u001b[0m                              Traceback (most recent call last)",
            "\u001b[0;32m<ipython-input-1-2518cd629c9f>\u001b[0m in \u001b[0;36m<module>\u001b[0;34m\u001b[0m\n\u001b[1;32m      7\u001b[0m \u001b[0mdetector\u001b[0m \u001b[0;34m=\u001b[0m \u001b[0mdlib\u001b[0m\u001b[0;34m.\u001b[0m\u001b[0mget_frontal_face_detector\u001b[0m\u001b[0;34m(\u001b[0m\u001b[0;34m)\u001b[0m\u001b[0;34m\u001b[0m\u001b[0;34m\u001b[0m\u001b[0m\n\u001b[1;32m      8\u001b[0m \u001b[0;31m# Import the downloaded model\u001b[0m\u001b[0;34m\u001b[0m\u001b[0;34m\u001b[0m\u001b[0;34m\u001b[0m\u001b[0m\n\u001b[0;32m----> 9\u001b[0;31m \u001b[0mpredictor\u001b[0m \u001b[0;34m=\u001b[0m \u001b[0mdlib\u001b[0m\u001b[0;34m.\u001b[0m\u001b[0mshape_predictor\u001b[0m\u001b[0;34m(\u001b[0m\u001b[0mpredictor_path\u001b[0m\u001b[0;34m)\u001b[0m\u001b[0;34m\u001b[0m\u001b[0;34m\u001b[0m\u001b[0m\n\u001b[0m\u001b[1;32m     10\u001b[0m \u001b[0;34m\u001b[0m\u001b[0m\n\u001b[1;32m     11\u001b[0m \u001b[0;31m# set the webcam\u001b[0m\u001b[0;34m\u001b[0m\u001b[0;34m\u001b[0m\u001b[0;34m\u001b[0m\u001b[0m\n",
            "\u001b[0;31mRuntimeError\u001b[0m: Error deserializing a floating point number.\n   while deserializing a dlib::matrix\n   while deserializing object of type std::vector\n   while deserializing object of type std::vector\n   while deserializing object of type std::vector"
          ]
        }
      ],
      "source": [
        "import cv2\n",
        "import dlib\n",
        "\n",
        "predictor_path = \"/content/drive/MyDrive/drowsiness-detection/shape_predictor_68_face_landmarks.dat\"\n",
        "\n",
        "# Initialize the default frontal face detector\n",
        "detector = dlib.get_frontal_face_detector()\n",
        "# Import the downloaded model\n",
        "predictor = dlib.shape_predictor(predictor_path)\n",
        "\n",
        "# set the webcam \n",
        "video_capture = cv2.VideoCapture(0)\n",
        "\n",
        "while True:\n",
        "    ret, frame = video_capture.read()\n",
        "\n",
        "    # Get the bounding boxes of detected faces with `detector`\n",
        "    # 1 in the second argument is for upsampling, higher values would make the input bigger\n",
        "    # so model could detect more faces\n",
        "    dets = detector(frame, 1)\n",
        "\n",
        "    # print(\"Number of detected faces: {}\".format(len(dets)))\n",
        "\n",
        "    for k, d in enumerate(dets):\n",
        "        # print(\"Bounding box coordinates for detection {}: Letf: {} Top: {} Right: {} Bottom: {}\".format(\n",
        "        #     k, d.left(), d.top(), d.right(), d.bottom()))\n",
        "\n",
        "        # get the landmarks by passing the frame and bounding box\n",
        "        shape = predictor(frame, d)\n",
        "        # add bounding box to the input frame\n",
        "        bb_img = cv2.rectangle(frame, (d.left(), d.top()),\n",
        "                               (d.right(), d.bottom()), (0, 255, 0), 2)\n",
        "\n",
        "        # print(\"Landmark 0: {}, Landmark 1: {} ...\".format(shape.part(0),\n",
        "        #                                           shape.part(1)))\n",
        "\n",
        "        # pretrained landmark detector can detect 68 landmarks, we'll get them one by one and \n",
        "        # put a circle into their coordinates \n",
        "        for i in range(68):\n",
        "            # since cv2.circle takes coordinates as tuples and dlib shape object is an object itself, \n",
        "            # we will get the x and y coordinates separately\n",
        "            x = shape.part(i).x\n",
        "            y = shape.part(i).y\n",
        "            # now put the circle for i_th landmark\n",
        "            landmarked_img = cv2.circle(bb_img, (x, y), 1, (0, 0, 255))\n",
        "            \n",
        "\n",
        "        cv2.imshow('Video', landmarked_img)\n",
        "\n",
        "\n",
        "    if cv2.waitKey(1) & 0xFF == ord('q'):\n",
        "        break"
      ]
    },
    {
      "cell_type": "markdown",
      "source": [],
      "metadata": {
        "id": "k6YCSqnC21Xo"
      }
    }
  ]
}